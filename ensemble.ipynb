{
 "cells": [
  {
   "cell_type": "code",
   "execution_count": 18,
   "metadata": {},
   "outputs": [],
   "source": [
    "import pandas as pd\n",
    "import numpy as np\n",
    "import matplotlib.pyplot as plt\n",
    "from sklearn.model_selection import KFold, StratifiedKFold\n",
    "from sklearn.metrics import roc_auc_score, f1_score\n",
    "from sklearn.preprocessing import MinMaxScaler, Normalizer, LabelEncoder\n",
    "\n",
    "%matplotlib inline"
   ]
  },
  {
   "cell_type": "code",
   "execution_count": 7,
   "metadata": {},
   "outputs": [],
   "source": [
    "p1 = pd.read_csv(\"csv/prediction1.csv\")\n",
    "p2 = pd.read_csv(\"csv/prediction2.csv\")\n",
    "p3 = pd.read_csv(\"csv/prediction3.csv\")\n",
    "p4 = pd.read_csv(\"csv/prediction4.csv\")\n",
    "p5 = pd.read_csv(\"csv/prediction5.csv\")\n",
    "p6 = pd.read_csv(\"csv/prediction6.csv\")\n",
    "\n",
    "predictions = pd.concat([p1, p2[\"is_promoted\"],p3[\"is_promoted\"],p4[\"is_promoted\"],p5[\"is_promoted\"],p6[\"is_promoted\"]], axis=1)\n",
    "predictions.columns = [\"employee_id\",\"p1\",\"p2\",\"p3\",\"p4\",\"p5\",\"p6\"]"
   ]
  },
  {
   "cell_type": "code",
   "execution_count": 15,
   "metadata": {},
   "outputs": [],
   "source": [
    "predictions[\"is_promoted\"] =(predictions[[\"p1\",\"p2\",\"p3\",\"p4\",\"p5\",\"p6\"]].mean(axis=1) > 0.5).astype(int)"
   ]
  },
  {
   "cell_type": "code",
   "execution_count": 17,
   "metadata": {},
   "outputs": [],
   "source": [
    "predictions[[\"employee_id\",\"is_promoted\"]].to_csv(\"csv/ensemble.csv\", index=False)"
   ]
  },
  {
   "cell_type": "code",
   "execution_count": 19,
   "metadata": {},
   "outputs": [],
   "source": [
    "p6 = pd.read_csv(\"csv/prediction6.csv\")\n",
    "p7 = pd.read_csv(\"csv/prediction7.csv\")\n",
    "predictions = pd.concat([p6, p7[\"is_promoted\"]], axis=1)\n",
    "predictions.columns = [\"employee_id\",\"p6\",\"p7\"]"
   ]
  },
  {
   "cell_type": "code",
   "execution_count": 23,
   "metadata": {},
   "outputs": [
    {
     "data": {
      "text/plain": [
       "0    22081\n",
       "2     1104\n",
       "1      305\n",
       "dtype: int64"
      ]
     },
     "execution_count": 23,
     "metadata": {},
     "output_type": "execute_result"
    }
   ],
   "source": [
    "predictions[[\"p6\",\"p7\"]].sum(axis=1).value_counts()"
   ]
  },
  {
   "cell_type": "code",
   "execution_count": 26,
   "metadata": {},
   "outputs": [
    {
     "data": {
      "text/plain": [
       "(57, 3)"
      ]
     },
     "execution_count": 26,
     "metadata": {},
     "output_type": "execute_result"
    }
   ],
   "source": [
    "predictions.loc[(predictions.p6 == 1)& (predictions.p7 == 0)].shape"
   ]
  },
  {
   "cell_type": "code",
   "execution_count": 28,
   "metadata": {},
   "outputs": [
    {
     "data": {
      "text/plain": [
       "0.8786311181854357"
      ]
     },
     "execution_count": 28,
     "metadata": {},
     "output_type": "execute_result"
    }
   ],
   "source": [
    "f1_score(predictions.p7, predictions.p6)"
   ]
  },
  {
   "cell_type": "code",
   "execution_count": null,
   "metadata": {},
   "outputs": [],
   "source": []
  }
 ],
 "metadata": {
  "kernelspec": {
   "display_name": "Python 2",
   "language": "python",
   "name": "python2"
  },
  "language_info": {
   "codemirror_mode": {
    "name": "ipython",
    "version": 2
   },
   "file_extension": ".py",
   "mimetype": "text/x-python",
   "name": "python",
   "nbconvert_exporter": "python",
   "pygments_lexer": "ipython2",
   "version": "2.7.14"
  }
 },
 "nbformat": 4,
 "nbformat_minor": 2
}
